{
  "nbformat": 4,
  "nbformat_minor": 0,
  "metadata": {
    "colab": {
      "provenance": [],
      "authorship_tag": "ABX9TyM/HEXJpSrotes1VI+uQPFT",
      "include_colab_link": true
    },
    "kernelspec": {
      "name": "python3",
      "display_name": "Python 3"
    },
    "language_info": {
      "name": "python"
    }
  },
  "cells": [
    {
      "cell_type": "markdown",
      "metadata": {
        "id": "view-in-github",
        "colab_type": "text"
      },
      "source": [
        "<a href=\"https://colab.research.google.com/github/medayoubaziz1993/Organize_Downloads/blob/main/Downloads_Folder_Organizer.ipynb\" target=\"_parent\"><img src=\"https://colab.research.google.com/assets/colab-badge.svg\" alt=\"Open In Colab\"/></a>"
      ]
    },
    {
      "cell_type": "code",
      "source": [
        "import os\n",
        "import shutil"
      ],
      "metadata": {
        "id": "xKiVx_v6bvuK"
      },
      "execution_count": 32,
      "outputs": []
    },
    {
      "cell_type": "code",
      "source": [
        "# Define the paths (use the Colab's temporary storage)\n",
        "downloads_folder = r\"C:\\Users\\aziz\\Downloads\"\n",
        "images_folder = r\"C:\\Users\\aziz\\Pictures\"\n",
        "documents_folder = r\"C:\\Users\\aziz\\Documents\"\n",
        "videos_folder = r\"C:\\Users\\aziz\\Videos\"\n",
        "music_folder = r\"C:\\Users\\aziz\\Music\"\n",
        "others_folder = r\"C:\\Users\\aziz\\Others\"\n",
        "\n",
        "# Define file type categories\n",
        "image_extensions = ['.jpg', '.jpeg', '.png', '.gif', '.bmp']\n",
        "document_extensions = ['.pdf', '.doc', '.docx', '.txt', '.xls', '.xlsx', '.ppt', '.pptx']\n",
        "video_extensions = ['.mp4', '.mkv', '.flv', '.avi', '.mov']\n",
        "music_extensions = ['.mp3', '.wav', '.aac', '.flac']"
      ],
      "metadata": {
        "id": "Us2ioj7kb1Ai"
      },
      "execution_count": 36,
      "outputs": []
    },
    {
      "cell_type": "code",
      "source": [
        "def move_file(file_path, destination_folder):\n",
        "    if not os.path.exists(destination_folder):\n",
        "        os.makedirs(destination_folder)\n",
        "    shutil.move(file_path, destination_folder)\n",
        "\n",
        "def organize_downloads():\n",
        "    for filename in os.listdir(downloads_folder):\n",
        "        file_path = os.path.join(downloads_folder, filename)\n",
        "        if os.path.isfile(file_path):\n",
        "            file_extension = os.path.splitext(filename)[1].lower()\n",
        "            if file_extension in image_extensions:\n",
        "                move_file(file_path, images_folder)\n",
        "            elif file_extension in document_extensions:\n",
        "                move_file(file_path, documents_folder)\n",
        "            elif file_extension in video_extensions:\n",
        "                move_file(file_path, videos_folder)\n",
        "            elif file_extension in music_extensions:\n",
        "                move_file(file_path, music_folder)\n",
        "            else:\n",
        "                move_file(file_path, others_folder)\n"
      ],
      "metadata": {
        "id": "kuzyOBgDbt4C"
      },
      "execution_count": 34,
      "outputs": []
    },
    {
      "cell_type": "code",
      "source": [
        "if __name__ == \"__main__\":\n",
        "    organize_downloads()"
      ],
      "metadata": {
        "colab": {
          "base_uri": "https://localhost:8080/",
          "height": 280
        },
        "id": "bU6M_h8mb5ip",
        "outputId": "11cb3f23-4c3e-431b-9f7e-f5c74971754c"
      },
      "execution_count": 37,
      "outputs": [
        {
          "output_type": "error",
          "ename": "FileNotFoundError",
          "evalue": "[Errno 2] No such file or directory: 'C:\\\\Users\\\\aziz\\\\Downloads'",
          "traceback": [
            "\u001b[0;31m---------------------------------------------------------------------------\u001b[0m",
            "\u001b[0;31mFileNotFoundError\u001b[0m                         Traceback (most recent call last)",
            "\u001b[0;32m<ipython-input-37-3c22c3682f0b>\u001b[0m in \u001b[0;36m<cell line: 1>\u001b[0;34m()\u001b[0m\n\u001b[1;32m      1\u001b[0m \u001b[0;32mif\u001b[0m \u001b[0m__name__\u001b[0m \u001b[0;34m==\u001b[0m \u001b[0;34m\"__main__\"\u001b[0m\u001b[0;34m:\u001b[0m\u001b[0;34m\u001b[0m\u001b[0;34m\u001b[0m\u001b[0m\n\u001b[0;32m----> 2\u001b[0;31m     \u001b[0morganize_downloads\u001b[0m\u001b[0;34m(\u001b[0m\u001b[0;34m)\u001b[0m\u001b[0;34m\u001b[0m\u001b[0;34m\u001b[0m\u001b[0m\n\u001b[0m",
            "\u001b[0;32m<ipython-input-34-8686f2f04269>\u001b[0m in \u001b[0;36morganize_downloads\u001b[0;34m()\u001b[0m\n\u001b[1;32m      5\u001b[0m \u001b[0;34m\u001b[0m\u001b[0m\n\u001b[1;32m      6\u001b[0m \u001b[0;32mdef\u001b[0m \u001b[0morganize_downloads\u001b[0m\u001b[0;34m(\u001b[0m\u001b[0;34m)\u001b[0m\u001b[0;34m:\u001b[0m\u001b[0;34m\u001b[0m\u001b[0;34m\u001b[0m\u001b[0m\n\u001b[0;32m----> 7\u001b[0;31m     \u001b[0;32mfor\u001b[0m \u001b[0mfilename\u001b[0m \u001b[0;32min\u001b[0m \u001b[0mos\u001b[0m\u001b[0;34m.\u001b[0m\u001b[0mlistdir\u001b[0m\u001b[0;34m(\u001b[0m\u001b[0mdownloads_folder\u001b[0m\u001b[0;34m)\u001b[0m\u001b[0;34m:\u001b[0m\u001b[0;34m\u001b[0m\u001b[0;34m\u001b[0m\u001b[0m\n\u001b[0m\u001b[1;32m      8\u001b[0m         \u001b[0mfile_path\u001b[0m \u001b[0;34m=\u001b[0m \u001b[0mos\u001b[0m\u001b[0;34m.\u001b[0m\u001b[0mpath\u001b[0m\u001b[0;34m.\u001b[0m\u001b[0mjoin\u001b[0m\u001b[0;34m(\u001b[0m\u001b[0mdownloads_folder\u001b[0m\u001b[0;34m,\u001b[0m \u001b[0mfilename\u001b[0m\u001b[0;34m)\u001b[0m\u001b[0;34m\u001b[0m\u001b[0;34m\u001b[0m\u001b[0m\n\u001b[1;32m      9\u001b[0m         \u001b[0;32mif\u001b[0m \u001b[0mos\u001b[0m\u001b[0;34m.\u001b[0m\u001b[0mpath\u001b[0m\u001b[0;34m.\u001b[0m\u001b[0misfile\u001b[0m\u001b[0;34m(\u001b[0m\u001b[0mfile_path\u001b[0m\u001b[0;34m)\u001b[0m\u001b[0;34m:\u001b[0m\u001b[0;34m\u001b[0m\u001b[0;34m\u001b[0m\u001b[0m\n",
            "\u001b[0;31mFileNotFoundError\u001b[0m: [Errno 2] No such file or directory: 'C:\\\\Users\\\\aziz\\\\Downloads'"
          ]
        }
      ]
    }
  ]
}